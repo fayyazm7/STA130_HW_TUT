{
 "cells": [
  {
   "cell_type": "markdown",
   "id": "8dbda904",
   "metadata": {},
   "source": [
    "<font size=\"4\">***Is there an association between how happy Canadians consider themselves and how happy they perceive their peers to be?***</font>\n",
    "\n",
    "**Variables:**\n",
    "- Subjective Happiness Scale (WELLNESS_subjective_happiness_scale_happy): Canadians rating their happiness based on their self-perception. \n",
    "- Happiness Relative to Peers (WELLNESS_subjective_happiness_scale_peers): Higher values indicate that the individual perceives themselves to be happier than their peers, and lower values indicate that the individual perceives themselves to be less happy than their peers. \n",
    "Both are on a scale of 1-7, where 7 is the most happy/more happy, and 1 is the least happy/less happy. \n",
    "Since these are ordinal categorical variables, the most efficient way to represent these variables visually is with a bar chart, with each bar representing a number on the scale from 1-7. Each variable would have a separate bar chart, the distributions of which could be compared side-by-side, with happiness level/scale on the x-axis, and the count, or frequency, on the y-axis. \n",
    "\n",
    "**Useful summary statistics:**\n",
    "A contingency table would be useful, as this can be used in a chi-squared test and can show the relationship between the categories based on the relative frequencies and differences in frequencies for each happiness level.\n",
    "The IQR for both variables is 2, and the mode is 5 for both, showing that most participants answered relatively consistently for both questions, and that Canadians generally consider themselves happy, and happier than their peers. \n",
    "However, the median offers us an interesting insight, as the median for subjective happiness scale (5.0) is hgiher than the median for happiness relative to peers (4.0), suggesting that Canadians perceive their own happiness as greater than that of their peers in a self-enhancement bias, which could influence Canadians' interactions with their peers if they perceive their own happiness in a more optimistic light.\n",
    "Different proportions and percentiles can also be calculated to see the difference in how many people choose level 7, for example. \n",
    "Our chi-squared test will test this and see if there is an association between the two variables. \n",
    "\n",
    "**Assumptions**: Independence of each participant's answer, expected frequency > 5 (otherwise we'd need to use a Fisher's Exact Test or combine happiness levels), the observations are randomly sampled to reduce bias, large sample size, categories are mutually exclusive and the data is not continuous. \n",
    "\n",
    "**Analysis**\n",
    "We can carry out a hypothesis test to see whether there is an association between the two variables, or whether they are independent of each other. \n",
    "H0: There is no association between Subjective Happiness Scale and Happiness Relative to Peers\n",
    "H1: There is an association between Subjective Happiness Scale and Happiness Relative to Peers\n",
    "If we take the significance level as 5%, we can carry out a chi-squared test, using a 2x7 contingency table and 6 degrees of freedom. \n",
    "Once we have the chi-squared statistic (by calculating the sum of the squared differences between observed and expected counts, divided by the expected counts), we compare this with the critical value for 5% and 6 degrees of freedom. If the statistic is more than this, we reject the null hypothesis, and can conclude there is an association. If the statistic is less than this, we don't have enough evidence to reject the null hypothesis, and cannot say that there is an association. We can also code a calculation to find the p-value and compare it to 0.05.\n",
    "Since the below calculation (Calc 1) is true, we can reject the null hypothesis and say there is an association between Subjective Happiness Scale and Happiness Relative to Peers.\n",
    "\n",
    "<font size=\"4\">***Is there an association between feeling rejected and receiving emotional support from family?***</font>\n",
    "\n",
    "**Variables:**\n",
    "- LONELY_dejong_emotional_social_loneliness_scale_rejected: measures participants' feelings about whether they feel they're rejected by others\n",
    "- PSYCH_zimet_multidimensional_social_support_scale_family_emotional: measures participants' perceived emotional support from their family, with responses on a scale from \"Very Strongly Agree\" to \"Very Strongly Disagree.\"\n",
    "Both of these variables can again be represented by bar charts, with the x-axis containing each level of response (e.g., for feeling rejected, 'No', 'Yes', 'More or Less', 'NaN') and the y-axis having the frequency of each response (e.g., 491 for 'No', 135 for 'Yes', 188 for 'More or Less' and 36 who didn't respond).\n",
    "\n",
    "**Useful Summary Statistics:** \n",
    "The mode can be very useful in ordinal categorical data, as it shows what the most chosen response is and allows us to make observations based on this. The median can provide a 'normal' or most common response, and the IQR can show how consistent family support and feelings of rejections are across the Canadians taking the survey. \n",
    "For example, there is a greater spread (3.0) in family support than in feeling rejected (1.0).\n",
    "\n",
    "**Analysis & Assumptions:**\n",
    "\n",
    "Carrying a hypothesis test similar to the one in Question 1 can also be done here, and a chi-squared test can be carried out to find the p-value and whether or not the null hypothesis is rejected or not. \n",
    "\n",
    "- **H0: There is no association between feeling rejected and receiving family emotional support**\n",
    "- **H1: There is an association between feeling rejected and receiving family emotional support**\n",
    "\n",
    "However, there are some **limitations** to this. Some expected values may fall below 5 (in which case a Fisher's Exact Test could be used), but the main limitation to using a chi-squared test is that it doesn't account for the ordering or rank of categories in the emotional support category, and doesn't recognize that very strongly agree is preceded by strongly agree, which is preceded by agree, and so on. \n",
    "\n",
    "Since we haven't learnt how to carry out tests for these, we can carry out a normal chi-squared hypothesis test on the data we have to see whether or not there is an association. Once this is determined, if there is an association, we could use Spearman's Rank Coefficient for Correlation (but we haven't learnt this yet).\n",
    "\n",
    "To carry out the chi-squared test, we would follow the same process as in Question 1: calculate the degrees of freedom ((num of rows - 1) * (num of columns - 1)) after making a contingency table, calculate the chi-squared statistic, either compare this to the critical value or calculate the p-value and compare to 0.05.\n",
    "The main assumption we are making is that the expected values are all > 5, and that each response is independent of the other, that there is a large sample size, the categories are mutually exclusive, and the observations are randomly sampled to avoid bias. \n",
    "\n",
    "<font size=\"4\">***Is there an association between emptiness and how often participants have sex?***</font>\n",
    "\n",
    "**Variables:**\n",
    "- LONELY_dejong_emotional_social_loneliness_scale_emptiness: Whether participants feel socially empty (either 'Yes', 'No' or 'More or Less' or unanswered)\n",
    "- CONNECTION_activities_sex_p3m: How frequently participants have sex, choosing based on the time periods given\n",
    "Since these are also ordinal categorical variables, these can also be represented by bar charts. For frequency of sex, the x-axis would have a bar for each of the different time periods given, as well as unanswered. For feeling empty, the x-axis would have a bar for each of 'Yes', 'No', 'More or Less' or unanswered. The y-axis for both bar charts would have the counts. It's also more useful than KDE's or histograms as there may not generally be a normal distribution. \n",
    "\n",
    "**Useful Summary Statistics:** \n",
    "- Mode: Shows us the most frequently occurring experience and whether most Canadians taking this survey feel 'empty' or not.\n",
    "- Median: Provides the middle or general level and shows us the rough central tendency of both variables.\n",
    "- Contigency Table: Once this is made, easy comparisons can be made and we can try to 'guess' whether there is an association between the two or not. For example, 68 participants said they engage in sexual activity a few times a month, and 56% of these participants also felt at least a moderate level of emptiness. Whether there's an association can be carried out with chi-squared, and whether H0 is rejected or not. \n",
    "\n",
    "**Analysis & Assumptions**\n",
    "Chi-squared test can be carried out to test the null hypothesis at a 5% significance level. Either the chi-squared statistic can be compared to the critical value (taken from a table or calculated), or a p-value can be calculated using this statistic and the degrees of freedom from the contigency table. \n",
    "\n",
    "- **H0: There is no association between feeling empty and the frequency of sex**\n",
    "- **H1: There is an association between feeling empty and the frequency of sex**\n",
    "So, to account for the ordinal nature of the data, and since we haven't learnt Spearman's Correlation Coefficient yet, a preliminary chi-squared test can be carried out, and if there is an association, we could use Spearman to find the strength of the correlation (but we haven't learnt this and it is outside of our current scope). \n",
    "\n",
    "**Main assumptions:** Each participant's response is independent, there's a large sample size, categories are mutually exclusive, the observations are randomly sampled to avoid bias. \n",
    "\n",
    "If an expected value falls below 5, we can use Fisher's Exact Test to see if there is an association or not. \n",
    "For this case, there is one cell where the expected value is 4.73, so we can use Fisher's Test instead. \n",
    "However, Fisher's test is usually used for 2x2 contigency tables, and we have a 3x7 contingency table. This is difficult to do, but can be approximated using a Monte Carlo simulation. Chi-squared cannot be used in this case as when the expected cell count < 5, it becomes unreliable. When this is carried out for the data given, we see that the chi-squared statistic is 42.60, which is more than the value at 5% for 12 degrees of freedom (21.03), and the p-value is significantly less than 0.05 (as seen in Calc 2), so we can reject H0 and say there is an association between feeling empty and the frequency of sex. "
   ]
  },
  {
   "cell_type": "code",
   "execution_count": 4,
   "id": "632afb42",
   "metadata": {},
   "outputs": [
    {
     "data": {
      "text/plain": [
       "True"
      ]
     },
     "execution_count": 4,
     "metadata": {},
     "output_type": "execute_result"
    }
   ],
   "source": [
    "#Calc 1\n",
    "from scipy.stats import chi2\n",
    "\n",
    "# Given Chi-square statistic and degrees of freedom\n",
    "chi2_stat = 43.78\n",
    "df = 6\n",
    "\n",
    "# Calculate p-value\n",
    "p_value = chi2.sf(chi2_stat, df)\n",
    "p_value < 0.05"
   ]
  },
  {
   "cell_type": "code",
   "execution_count": 5,
   "id": "caf4887a",
   "metadata": {},
   "outputs": [
    {
     "name": "stdout",
     "output_type": "stream",
     "text": [
      "Chi-square Statistic: 42.59898058101288\n",
      "p-value: 2.639594457684808e-05\n",
      "Degrees of Freedom: 12\n",
      "Expected Frequencies:\n",
      " [[229.05359318  34.98781973  33.12180268  32.18879415  31.72228989\n",
      "   14.46163216   7.46406821]\n",
      " [146.5225335   22.38124239  21.18757613  20.590743    20.29232643\n",
      "    9.25091352   4.77466504]\n",
      " [115.42387333  17.63093788  16.69062119  16.22046285  15.98538368\n",
      "    7.28745432   3.76126675]]\n"
     ]
    },
    {
     "data": {
      "text/plain": [
       "True"
      ]
     },
     "execution_count": 5,
     "metadata": {},
     "output_type": "execute_result"
    }
   ],
   "source": [
    "#Calc 2\n",
    "import pandas as pd\n",
    "import numpy as np\n",
    "from scipy.stats import chi2_contingency\n",
    "\n",
    "# Construct the contingency table as a DataFrame (using provided data as an example)\n",
    "contingency_table = pd.DataFrame({\n",
    "    \"Not in the past three months\": [200, 160, 131],\n",
    "    \"Weekly\": [50, 15, 10],\n",
    "    \"Less than monthly\": [45, 16, 10],\n",
    "    \"A few times a week\": [40, 20, 9],\n",
    "    \"A few times a month\": [30, 18, 20],\n",
    "    \"Monthly\": [10, 9, 12],\n",
    "    \"Daily or almost daily\": [8, 7, 1]\n",
    "}, index=[\"No\", \"More or less\", \"Yes\"])\n",
    "\n",
    "# Perform the Chi-square test with Monte Carlo simulation\n",
    "# `lambda_=\"log-likelihood\"` uses the likelihood-ratio chi-square, a better approximation in some cases\n",
    "chi2_stat, p_value, dof, expected_frequencies = chi2_contingency(contingency_table, lambda_=\"log-likelihood\")\n",
    "\n",
    "# Display the results\n",
    "print(\"Chi-square Statistic:\", chi2_stat)\n",
    "print(\"p-value:\", p_value)\n",
    "print(\"Degrees of Freedom:\", dof)\n",
    "print(\"Expected Frequencies:\\n\", expected_frequencies)\n",
    "p_value < 0.05"
   ]
  }
 ],
 "metadata": {
  "kernelspec": {
   "display_name": "Python 3 (ipykernel)",
   "language": "python",
   "name": "python3"
  },
  "language_info": {
   "codemirror_mode": {
    "name": "ipython",
    "version": 3
   },
   "file_extension": ".py",
   "mimetype": "text/x-python",
   "name": "python",
   "nbconvert_exporter": "python",
   "pygments_lexer": "ipython3",
   "version": "3.11.6"
  }
 },
 "nbformat": 4,
 "nbformat_minor": 5
}
